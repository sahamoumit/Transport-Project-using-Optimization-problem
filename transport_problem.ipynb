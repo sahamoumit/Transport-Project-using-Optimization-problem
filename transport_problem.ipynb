{
  "nbformat": 4,
  "nbformat_minor": 0,
  "metadata": {
    "colab": {
      "provenance": [],
      "collapsed_sections": []
    },
    "kernelspec": {
      "name": "python3",
      "display_name": "Python 3"
    }
  },
  "cells": [
    {
      "cell_type": "markdown",
      "source": [
        "#Part 1 to Part 7"
      ],
      "metadata": {
        "id": "plfU6UHyiCdj"
      }
    },
    {
      "cell_type": "markdown",
      "source": [
        "#7)#\n",
        "\n",
        "#Total cost =  2192870.0#\n",
        "\n",
        "#Number of truckload of EV's are ::#\n",
        "\n",
        "Between ahmedabad  and  Jodhpur : 300.0\n",
        "\n",
        "Between ahmedabad  and  Dibrugarh : 45.0\n",
        "\n",
        "Between ahmedabad  and  Raipur : 5.0\n",
        "\n",
        "Between Bengaluru  and  Trichy : 120.0\n",
        "\n",
        "between  Bengaluru  and  Vijaywarah : 65.0\n",
        "\n",
        "between  Chennai  and  Trichy : 305.0\n",
        "\n",
        "between  Delhi  and  Shimla : 95.0\n",
        "\n",
        "between  Delhi  and  Dibrugarh : 85.0\n",
        "\n",
        "between  Kolkata  and  Dibrugarh : 95.0\n",
        "\n",
        "between  Kolkata  and  Agartala : 110.0\n",
        "\n",
        "between  Lucknow  and  Shimla : 175.0\n",
        "\n",
        "between  Mumbai  and  Hassan : 205.0\n",
        "\n",
        "between  Mumbai  and  Raipur : 120.0\n",
        "\n",
        "between  Hydrabad  and  Vijaywarah : 310.0\n",
        "\n",
        "between  Hydrabad  and  Raipur : 60.0"
      ],
      "metadata": {
        "id": "oPzPdxeTkGzR"
      }
    },
    {
      "cell_type": "markdown",
      "source": [],
      "metadata": {
        "id": "43-egzN_iHHu"
      }
    },
    {
      "cell_type": "code",
      "metadata": {
        "id": "E6VwDP2RpVyd"
      },
      "source": [
        "!pip install -q pyomo"
      ],
      "execution_count": 6,
      "outputs": []
    },
    {
      "cell_type": "code",
      "source": [],
      "metadata": {
        "id": "e7W1jjyjNVt0"
      },
      "execution_count": 6,
      "outputs": []
    },
    {
      "cell_type": "code",
      "metadata": {
        "id": "1r_yYUofSTFB"
      },
      "source": [
        "from pyomo.environ import * "
      ],
      "execution_count": 7,
      "outputs": []
    },
    {
      "cell_type": "code",
      "metadata": {
        "id": "4xu-ZbGQ61f4"
      },
      "source": [
        "import numpy as np"
      ],
      "execution_count": 8,
      "outputs": []
    },
    {
      "cell_type": "code",
      "metadata": {
        "id": "g3bUiPzkmSQP"
      },
      "source": [
        "import pandas as pd"
      ],
      "execution_count": 9,
      "outputs": []
    },
    {
      "cell_type": "markdown",
      "metadata": {
        "id": "yTa_jWDa_MIG"
      },
      "source": [
        "For more on pandas library please check https://pandas.pydata.org/pandas-docs/version/0.15/tutorials.html"
      ]
    },
    {
      "cell_type": "code",
      "metadata": {
        "id": "CryJ2MUN86Zh"
      },
      "source": [],
      "execution_count": 9,
      "outputs": []
    },
    {
      "cell_type": "code",
      "metadata": {
        "id": "Z26rYgB4m25b"
      },
      "source": [
        "data_csvfile = pd.read_csv('lab6_ex1.csv')"
      ],
      "execution_count": 10,
      "outputs": []
    },
    {
      "cell_type": "code",
      "metadata": {
        "id": "6AcUJmkX9dwh",
        "colab": {
          "base_uri": "https://localhost:8080/"
        },
        "outputId": "ab76f3a9-bbb3-4b25-d3f0-58998661996f"
      },
      "source": [
        "data_csvfile.index"
      ],
      "execution_count": 11,
      "outputs": [
        {
          "output_type": "execute_result",
          "data": {
            "text/plain": [
              "RangeIndex(start=0, stop=9, step=1)"
            ]
          },
          "metadata": {},
          "execution_count": 11
        }
      ]
    },
    {
      "cell_type": "code",
      "metadata": {
        "id": "d639fkLY9ed0",
        "colab": {
          "base_uri": "https://localhost:8080/"
        },
        "outputId": "6c462b15-2b65-4793-db5d-f2af076284c6"
      },
      "source": [
        "print('num rows:', len(data_csvfile.index))"
      ],
      "execution_count": 12,
      "outputs": [
        {
          "output_type": "stream",
          "name": "stdout",
          "text": [
            "num rows: 9\n"
          ]
        }
      ]
    },
    {
      "cell_type": "code",
      "metadata": {
        "id": "eK_-wMWZ87dE",
        "colab": {
          "base_uri": "https://localhost:8080/"
        },
        "outputId": "8c258b3c-55b6-42cf-fd49-8d3fe5b7c1d4"
      },
      "source": [
        "#to get the row contents corresponding to Ahmedabad\n",
        "print(data_csvfile.iloc[0,:])"
      ],
      "execution_count": 13,
      "outputs": [
        {
          "output_type": "stream",
          "name": "stdout",
          "text": [
            "Warehouses         ahmedabad\n",
            "Hassan                   827\n",
            "Jodhpur                  817\n",
            "Trichy                  1470\n",
            "Shimla                  2272\n",
            "Vijaywarah              1615\n",
            "Dibrugarh               3143\n",
            "Raipur                  1264\n",
            "Agartala                4465\n",
            "Available stock          350\n",
            "Name: 0, dtype: object\n"
          ]
        }
      ]
    },
    {
      "cell_type": "code",
      "metadata": {
        "id": "j8nhafkH9PJi",
        "colab": {
          "base_uri": "https://localhost:8080/"
        },
        "outputId": "5f644a8b-7075-4d02-9039-44b705769960"
      },
      "source": [
        "#to get the row contents corresponding to Bengaluru\n",
        "print(data_csvfile.iloc[1,:])"
      ],
      "execution_count": 14,
      "outputs": [
        {
          "output_type": "stream",
          "name": "stdout",
          "text": [
            "Warehouses         Bengaluru\n",
            "Hassan                   559\n",
            "Jodhpur                 1832\n",
            "Trichy                   751\n",
            "Shimla                  3772\n",
            "Vijaywarah               637\n",
            "Dibrugarh               3773\n",
            "Raipur                  1856\n",
            "Agartala                5459\n",
            "Available stock          185\n",
            "Name: 1, dtype: object\n"
          ]
        }
      ]
    },
    {
      "cell_type": "code",
      "metadata": {
        "id": "Kte6UWEjnPS7",
        "colab": {
          "base_uri": "https://localhost:8080/"
        },
        "outputId": "209b8ec0-be3f-4e6c-9ec0-ac5980abf20f"
      },
      "source": [
        "data_csvfile.columns"
      ],
      "execution_count": 15,
      "outputs": [
        {
          "output_type": "execute_result",
          "data": {
            "text/plain": [
              "Index(['Warehouses', 'Hassan', 'Jodhpur', 'Trichy', 'Shimla', 'Vijaywarah',\n",
              "       'Dibrugarh', 'Raipur', 'Agartala', 'Available stock'],\n",
              "      dtype='object')"
            ]
          },
          "metadata": {},
          "execution_count": 15
        }
      ]
    },
    {
      "cell_type": "code",
      "metadata": {
        "id": "1DsQ2OkA9lPq",
        "colab": {
          "base_uri": "https://localhost:8080/"
        },
        "outputId": "621ee3b4-8007-4e42-855a-908fc461be90"
      },
      "source": [
        "print('num  columns: ',len(data_csvfile.columns))"
      ],
      "execution_count": 16,
      "outputs": [
        {
          "output_type": "stream",
          "name": "stdout",
          "text": [
            "num  columns:  10\n"
          ]
        }
      ]
    },
    {
      "cell_type": "code",
      "metadata": {
        "id": "eJ2SntTsnF2r",
        "colab": {
          "base_uri": "https://localhost:8080/"
        },
        "outputId": "166f42b4-8584-4d43-d31d-6d0bcac2aef5"
      },
      "source": [
        "#to get the column contents corresponding to Hassan\n",
        "print(data_csvfile.iloc[:,1])"
      ],
      "execution_count": 17,
      "outputs": [
        {
          "output_type": "stream",
          "name": "stdout",
          "text": [
            "0     827\n",
            "1     559\n",
            "2    1109\n",
            "3    2943\n",
            "4    3742\n",
            "5    2353\n",
            "6    1356\n",
            "7     195\n",
            "8     205\n",
            "Name: Hassan, dtype: int64\n"
          ]
        }
      ]
    },
    {
      "cell_type": "code",
      "metadata": {
        "id": "2aRsk9xQnK5T",
        "colab": {
          "base_uri": "https://localhost:8080/"
        },
        "outputId": "1168ca2f-ff6f-476d-89e0-5e066fe5c451"
      },
      "source": [
        "#to get the column contents corresponding to Jodhpur\n",
        "print(data_csvfile.iloc[:,2])"
      ],
      "execution_count": 18,
      "outputs": [
        {
          "output_type": "stream",
          "name": "stdout",
          "text": [
            "0     817\n",
            "1    1832\n",
            "2    2443\n",
            "3    1471\n",
            "4    3089\n",
            "5    1160\n",
            "6    1617\n",
            "7    1862\n",
            "8     300\n",
            "Name: Jodhpur, dtype: int64\n"
          ]
        }
      ]
    },
    {
      "cell_type": "code",
      "metadata": {
        "id": "HYj3zpsvSih4"
      },
      "source": [
        "# create a model\n",
        "model_lab5_ex1 = ConcreteModel()"
      ],
      "execution_count": 19,
      "outputs": []
    },
    {
      "cell_type": "code",
      "metadata": {
        "id": "XvRZqCV8d_-e",
        "colab": {
          "base_uri": "https://localhost:8080/"
        },
        "outputId": "defefa78-5564-4447-a0bf-0f654c108bc2"
      },
      "source": [
        "# we can set certain values using python variables\n",
        "M = len(data_csvfile.index)-1 #we declare a Python variable M denoting the number of Washing Machine Units  \n",
        "print('num washing machine units: ',M)"
      ],
      "execution_count": 20,
      "outputs": [
        {
          "output_type": "stream",
          "name": "stdout",
          "text": [
            "num washing machine units:  8\n"
          ]
        }
      ]
    },
    {
      "cell_type": "code",
      "metadata": {
        "id": "_8CnN-2w9EMo",
        "colab": {
          "base_uri": "https://localhost:8080/"
        },
        "outputId": "5f493c05-e087-45a7-f4e8-07f6d4a39fb0"
      },
      "source": [
        "N = len(data_csvfile.columns)-2 #we declare a Python variable N denoting the number of Markets\n",
        "print('num markets: ',N)"
      ],
      "execution_count": 21,
      "outputs": [
        {
          "output_type": "stream",
          "name": "stdout",
          "text": [
            "num markets:  8\n"
          ]
        }
      ]
    },
    {
      "cell_type": "code",
      "metadata": {
        "id": "NePoJ4k9Lp3H",
        "colab": {
          "base_uri": "https://localhost:8080/"
        },
        "outputId": "9b8c7808-fb8b-40d3-e7b7-06f2acb10f15"
      },
      "source": [
        "row_indices = range(M)\n",
        "col_indices = range(N)\n",
        "\n",
        "print(row_indices)\n",
        "print(col_indices)"
      ],
      "execution_count": 22,
      "outputs": [
        {
          "output_type": "stream",
          "name": "stdout",
          "text": [
            "range(0, 8)\n",
            "range(0, 8)\n"
          ]
        }
      ]
    },
    {
      "cell_type": "code",
      "metadata": {
        "id": "ny1L1i__Ktkm",
        "colab": {
          "base_uri": "https://localhost:8080/"
        },
        "outputId": "cb61facf-d858-45c6-a3c5-3d45b03f0198"
      },
      "source": [
        "#to get the contents of costs alone from the file we use the following\n",
        "for row_idx in row_indices:\n",
        "  for col_idx in col_indices:\n",
        "    print('cost[',row_idx,'][',col_idx+1,']:',data_csvfile.iloc[row_idx, col_idx+1])"
      ],
      "execution_count": 23,
      "outputs": [
        {
          "output_type": "stream",
          "name": "stdout",
          "text": [
            "cost[ 0 ][ 1 ]: 827\n",
            "cost[ 0 ][ 2 ]: 817\n",
            "cost[ 0 ][ 3 ]: 1470\n",
            "cost[ 0 ][ 4 ]: 2272\n",
            "cost[ 0 ][ 5 ]: 1615\n",
            "cost[ 0 ][ 6 ]: 3143\n",
            "cost[ 0 ][ 7 ]: 1264\n",
            "cost[ 0 ][ 8 ]: 4465\n",
            "cost[ 1 ][ 1 ]: 559\n",
            "cost[ 1 ][ 2 ]: 1832\n",
            "cost[ 1 ][ 3 ]: 751\n",
            "cost[ 1 ][ 4 ]: 3772\n",
            "cost[ 1 ][ 5 ]: 637\n",
            "cost[ 1 ][ 6 ]: 3773\n",
            "cost[ 1 ][ 7 ]: 1856\n",
            "cost[ 1 ][ 8 ]: 5459\n",
            "cost[ 2 ][ 1 ]: 1109\n",
            "cost[ 2 ][ 2 ]: 2443\n",
            "cost[ 2 ][ 3 ]: 577\n",
            "cost[ 2 ][ 4 ]: 3865\n",
            "cost[ 2 ][ 5 ]: 798\n",
            "cost[ 2 ][ 6 ]: 3521\n",
            "cost[ 2 ][ 7 ]: 1984\n",
            "cost[ 2 ][ 8 ]: 5303\n",
            "cost[ 3 ][ 1 ]: 2943\n",
            "cost[ 3 ][ 2 ]: 1471\n",
            "cost[ 3 ][ 3 ]: 4676\n",
            "cost[ 3 ][ 4 ]: 1337\n",
            "cost[ 3 ][ 5 ]: 2702\n",
            "cost[ 3 ][ 6 ]: 2741\n",
            "cost[ 3 ][ 7 ]: 2482\n",
            "cost[ 3 ][ 8 ]: 4148\n",
            "cost[ 4 ][ 1 ]: 3742\n",
            "cost[ 4 ][ 2 ]: 3089\n",
            "cost[ 4 ][ 3 ]: 2931\n",
            "cost[ 4 ][ 4 ]: 3199\n",
            "cost[ 4 ][ 5 ]: 2226\n",
            "cost[ 4 ][ 6 ]: 1739\n",
            "cost[ 4 ][ 7 ]: 1691\n",
            "cost[ 4 ][ 8 ]: 2128\n",
            "cost[ 5 ][ 1 ]: 2353\n",
            "cost[ 5 ][ 2 ]: 1160\n",
            "cost[ 5 ][ 3 ]: 3295\n",
            "cost[ 5 ][ 4 ]: 368\n",
            "cost[ 5 ][ 5 ]: 2369\n",
            "cost[ 5 ][ 6 ]: 2365\n",
            "cost[ 5 ][ 7 ]: 1293\n",
            "cost[ 5 ][ 8 ]: 3642\n",
            "cost[ 6 ][ 1 ]: 1356\n",
            "cost[ 6 ][ 2 ]: 1617\n",
            "cost[ 6 ][ 3 ]: 2045\n",
            "cost[ 6 ][ 4 ]: 2941\n",
            "cost[ 6 ][ 5 ]: 2334\n",
            "cost[ 6 ][ 6 ]: 4151\n",
            "cost[ 6 ][ 7 ]: 1937\n",
            "cost[ 6 ][ 8 ]: 4287\n",
            "cost[ 7 ][ 1 ]: 195\n",
            "cost[ 7 ][ 2 ]: 1862\n",
            "cost[ 7 ][ 3 ]: 1331\n",
            "cost[ 7 ][ 4 ]: 2921\n",
            "cost[ 7 ][ 5 ]: 402\n",
            "cost[ 7 ][ 6 ]: 2825\n",
            "cost[ 7 ][ 7 ]: 563\n",
            "cost[ 7 ][ 8 ]: 4441\n"
          ]
        }
      ]
    },
    {
      "cell_type": "code",
      "metadata": {
        "id": "GWlyoZdzpoNT"
      },
      "source": [
        "#declare the decision variables in the model\n",
        "model_lab5_ex1.x = Var(row_indices, col_indices, domain= NonNegativeIntegers)"
      ],
      "execution_count": 24,
      "outputs": []
    },
    {
      "cell_type": "code",
      "metadata": {
        "id": "6AUcuaeEqDUm"
      },
      "source": [
        "model_lab5_ex1.objective = Objective(expr=sum(data_csvfile.iloc[i,j+1]*model_lab5_ex1.x[i,j] for i in row_indices for j in col_indices),sense=minimize)"
      ],
      "execution_count": 25,
      "outputs": []
    },
    {
      "cell_type": "code",
      "metadata": {
        "id": "Mcu6irk6tQHz"
      },
      "source": [
        "model_lab5_ex1.constraints = ConstraintList()"
      ],
      "execution_count": 26,
      "outputs": []
    },
    {
      "cell_type": "code",
      "metadata": {
        "id": "xT23CK9eL_UJ",
        "colab": {
          "base_uri": "https://localhost:8080/"
        },
        "outputId": "7acd8228-12da-4d45-d965-8426c05b1511"
      },
      "source": [
        "#to get the supply (or production) limit at washing machine units from the file we can use the following\n",
        "print(data_csvfile.iloc[:8,N+1])"
      ],
      "execution_count": 27,
      "outputs": [
        {
          "output_type": "stream",
          "name": "stdout",
          "text": [
            "0    350\n",
            "1    185\n",
            "2    305\n",
            "3    180\n",
            "4    205\n",
            "5    175\n",
            "6    325\n",
            "7    370\n",
            "Name: Available stock, dtype: int64\n"
          ]
        }
      ]
    },
    {
      "cell_type": "code",
      "metadata": {
        "id": "4LfKpdmVMPHZ",
        "colab": {
          "base_uri": "https://localhost:8080/"
        },
        "outputId": "f72cb7b0-fd39-4fd7-b2c7-1d191677bf62"
      },
      "source": [
        "#to get the demands at markets from the file we can use the following\n",
        "print(data_csvfile.iloc[M,1:N+1])"
      ],
      "execution_count": 28,
      "outputs": [
        {
          "output_type": "stream",
          "name": "stdout",
          "text": [
            "Hassan        205\n",
            "Jodhpur       300\n",
            "Trichy        425\n",
            "Shimla        270\n",
            "Vijaywarah    375\n",
            "Dibrugarh     225\n",
            "Raipur        185\n",
            "Agartala      110\n",
            "Name: 8, dtype: object\n"
          ]
        }
      ]
    },
    {
      "cell_type": "code",
      "metadata": {
        "id": "8V05vmFPtWYZ",
        "colab": {
          "base_uri": "https://localhost:8080/"
        },
        "outputId": "d1404a5a-cd0d-4e70-ec15-f39dae8691dc"
      },
      "source": [
        "#first We will add the supply (or production) limit constraints\n",
        "#supply constraint for Ahmedabad\n",
        "model_lab5_ex1.constraints.add(expr=sum(model_lab5_ex1.x[0,j] for j in col_indices) <= data_csvfile.iloc[0,N+1]) \n",
        "\n",
        "#supply constraint for Bengaluru\n",
        "model_lab5_ex1.constraints.add(expr=sum(model_lab5_ex1.x[1,j] for j in col_indices) <= data_csvfile.iloc[1,N+1]) \n",
        "\n",
        "#supply constraint for chennai\n",
        "model_lab5_ex1.constraints.add(expr=sum(model_lab5_ex1.x[2,j] for j in col_indices) <= data_csvfile.iloc[2,N+1]) \n",
        "\n",
        "#supply constraint for Delhi\n",
        "model_lab5_ex1.constraints.add(expr=sum(model_lab5_ex1.x[3,j] for j in col_indices) <= data_csvfile.iloc[3,N+1]) \n",
        "\n",
        "#supply constraint for Kokata\n",
        "model_lab5_ex1.constraints.add(expr=sum(model_lab5_ex1.x[4,j] for j in col_indices) <= data_csvfile.iloc[4,N+1]) \n",
        "\n",
        "#supply constraint for Lucknow\n",
        "model_lab5_ex1.constraints.add(expr=sum(model_lab5_ex1.x[5,j] for j in col_indices) <= data_csvfile.iloc[5,N+1]) \n",
        "\n",
        "#supply constraint for Mumbai\n",
        "model_lab5_ex1.constraints.add(expr=sum(model_lab5_ex1.x[6,j] for j in col_indices) <= data_csvfile.iloc[6,N+1]) \n",
        "\n",
        "#supply constraint for Hydrabad\n",
        "model_lab5_ex1.constraints.add(expr=sum(model_lab5_ex1.x[7,j] for j in col_indices) <= data_csvfile.iloc[7,N+1]) \n"
      ],
      "execution_count": 29,
      "outputs": [
        {
          "output_type": "execute_result",
          "data": {
            "text/plain": [
              "<pyomo.core.base.constraint._GeneralConstraintData at 0x7fac8ab1de50>"
            ]
          },
          "metadata": {},
          "execution_count": 29
        }
      ]
    },
    {
      "cell_type": "code",
      "metadata": {
        "id": "361XIzn3t_m2",
        "colab": {
          "base_uri": "https://localhost:8080/"
        },
        "outputId": "f202aa87-b5db-4314-8249-928836f03d1c"
      },
      "source": [
        "#Now we will add the demand constraints\n",
        "#demand constraint for Hassan\n",
        "model_lab5_ex1.constraints.add(expr=sum(model_lab5_ex1.x[i,0] for i in row_indices) == data_csvfile.iloc[M,1])\n",
        "\n",
        "#demand constraint for Jodhpur\n",
        "model_lab5_ex1.constraints.add(expr=sum(model_lab5_ex1.x[i,1] for i in row_indices) == data_csvfile.iloc[M,2])\n",
        "\n",
        "#demand constraint for Trichy\n",
        "model_lab5_ex1.constraints.add(expr=sum(model_lab5_ex1.x[i,2] for i in row_indices) == data_csvfile.iloc[M,3])\n",
        "\n",
        "#demand constraint for Shimla\n",
        "model_lab5_ex1.constraints.add(expr=sum(model_lab5_ex1.x[i,3] for i in row_indices) == data_csvfile.iloc[M,4])\n",
        "\n",
        "#demand constraint for Vijaywada\n",
        "model_lab5_ex1.constraints.add(expr=sum(model_lab5_ex1.x[i,4] for i in row_indices) == data_csvfile.iloc[M,5])\n",
        "\n",
        "#demand constraint for Dibrugarh\n",
        "model_lab5_ex1.constraints.add(expr=sum(model_lab5_ex1.x[i,5] for i in row_indices) == data_csvfile.iloc[M,6])\n",
        "\n",
        "#demand constraint for Raipur\n",
        "model_lab5_ex1.constraints.add(expr=sum(model_lab5_ex1.x[i,6] for i in row_indices) == data_csvfile.iloc[M,7])\n",
        "\n",
        "#demand constraint for Agartala\n",
        "model_lab5_ex1.constraints.add(expr=sum(model_lab5_ex1.x[i,7] for i in row_indices) == data_csvfile.iloc[M,8])\n"
      ],
      "execution_count": 30,
      "outputs": [
        {
          "output_type": "execute_result",
          "data": {
            "text/plain": [
              "<pyomo.core.base.constraint._GeneralConstraintData at 0x7fac8aab62f0>"
            ]
          },
          "metadata": {},
          "execution_count": 30
        }
      ]
    },
    {
      "cell_type": "code",
      "metadata": {
        "id": "hLjlmRD8eG_X",
        "colab": {
          "base_uri": "https://localhost:8080/"
        },
        "outputId": "2c2f468b-4beb-4da2-f102-4cc8f5cc15d7"
      },
      "source": [
        "model_lab5_ex1.pprint()"
      ],
      "execution_count": 31,
      "outputs": [
        {
          "output_type": "stream",
          "name": "stdout",
          "text": [
            "4 Set Declarations\n",
            "    constraints_index : Size=1, Index=None, Ordered=Insertion\n",
            "        Key  : Dimen : Domain : Size : Members\n",
            "        None :     1 :    Any :   16 : {1, 2, 3, 4, 5, 6, 7, 8, 9, 10, 11, 12, 13, 14, 15, 16}\n",
            "    x_index : Size=1, Index=None, Ordered=True\n",
            "        Key  : Dimen : Domain              : Size : Members\n",
            "        None :     2 : x_index_0*x_index_1 :   64 : {(0, 0), (0, 1), (0, 2), (0, 3), (0, 4), (0, 5), (0, 6), (0, 7), (1, 0), (1, 1), (1, 2), (1, 3), (1, 4), (1, 5), (1, 6), (1, 7), (2, 0), (2, 1), (2, 2), (2, 3), (2, 4), (2, 5), (2, 6), (2, 7), (3, 0), (3, 1), (3, 2), (3, 3), (3, 4), (3, 5), (3, 6), (3, 7), (4, 0), (4, 1), (4, 2), (4, 3), (4, 4), (4, 5), (4, 6), (4, 7), (5, 0), (5, 1), (5, 2), (5, 3), (5, 4), (5, 5), (5, 6), (5, 7), (6, 0), (6, 1), (6, 2), (6, 3), (6, 4), (6, 5), (6, 6), (6, 7), (7, 0), (7, 1), (7, 2), (7, 3), (7, 4), (7, 5), (7, 6), (7, 7)}\n",
            "    x_index_0 : Size=1, Index=None, Ordered=Insertion\n",
            "        Key  : Dimen : Domain : Size : Members\n",
            "        None :     1 :    Any :    8 : {0, 1, 2, 3, 4, 5, 6, 7}\n",
            "    x_index_1 : Size=1, Index=None, Ordered=Insertion\n",
            "        Key  : Dimen : Domain : Size : Members\n",
            "        None :     1 :    Any :    8 : {0, 1, 2, 3, 4, 5, 6, 7}\n",
            "\n",
            "1 Var Declarations\n",
            "    x : Size=64, Index=x_index\n",
            "        Key    : Lower : Value : Upper : Fixed : Stale : Domain\n",
            "        (0, 0) :     0 :  None :  None : False :  True : NonNegativeIntegers\n",
            "        (0, 1) :     0 :  None :  None : False :  True : NonNegativeIntegers\n",
            "        (0, 2) :     0 :  None :  None : False :  True : NonNegativeIntegers\n",
            "        (0, 3) :     0 :  None :  None : False :  True : NonNegativeIntegers\n",
            "        (0, 4) :     0 :  None :  None : False :  True : NonNegativeIntegers\n",
            "        (0, 5) :     0 :  None :  None : False :  True : NonNegativeIntegers\n",
            "        (0, 6) :     0 :  None :  None : False :  True : NonNegativeIntegers\n",
            "        (0, 7) :     0 :  None :  None : False :  True : NonNegativeIntegers\n",
            "        (1, 0) :     0 :  None :  None : False :  True : NonNegativeIntegers\n",
            "        (1, 1) :     0 :  None :  None : False :  True : NonNegativeIntegers\n",
            "        (1, 2) :     0 :  None :  None : False :  True : NonNegativeIntegers\n",
            "        (1, 3) :     0 :  None :  None : False :  True : NonNegativeIntegers\n",
            "        (1, 4) :     0 :  None :  None : False :  True : NonNegativeIntegers\n",
            "        (1, 5) :     0 :  None :  None : False :  True : NonNegativeIntegers\n",
            "        (1, 6) :     0 :  None :  None : False :  True : NonNegativeIntegers\n",
            "        (1, 7) :     0 :  None :  None : False :  True : NonNegativeIntegers\n",
            "        (2, 0) :     0 :  None :  None : False :  True : NonNegativeIntegers\n",
            "        (2, 1) :     0 :  None :  None : False :  True : NonNegativeIntegers\n",
            "        (2, 2) :     0 :  None :  None : False :  True : NonNegativeIntegers\n",
            "        (2, 3) :     0 :  None :  None : False :  True : NonNegativeIntegers\n",
            "        (2, 4) :     0 :  None :  None : False :  True : NonNegativeIntegers\n",
            "        (2, 5) :     0 :  None :  None : False :  True : NonNegativeIntegers\n",
            "        (2, 6) :     0 :  None :  None : False :  True : NonNegativeIntegers\n",
            "        (2, 7) :     0 :  None :  None : False :  True : NonNegativeIntegers\n",
            "        (3, 0) :     0 :  None :  None : False :  True : NonNegativeIntegers\n",
            "        (3, 1) :     0 :  None :  None : False :  True : NonNegativeIntegers\n",
            "        (3, 2) :     0 :  None :  None : False :  True : NonNegativeIntegers\n",
            "        (3, 3) :     0 :  None :  None : False :  True : NonNegativeIntegers\n",
            "        (3, 4) :     0 :  None :  None : False :  True : NonNegativeIntegers\n",
            "        (3, 5) :     0 :  None :  None : False :  True : NonNegativeIntegers\n",
            "        (3, 6) :     0 :  None :  None : False :  True : NonNegativeIntegers\n",
            "        (3, 7) :     0 :  None :  None : False :  True : NonNegativeIntegers\n",
            "        (4, 0) :     0 :  None :  None : False :  True : NonNegativeIntegers\n",
            "        (4, 1) :     0 :  None :  None : False :  True : NonNegativeIntegers\n",
            "        (4, 2) :     0 :  None :  None : False :  True : NonNegativeIntegers\n",
            "        (4, 3) :     0 :  None :  None : False :  True : NonNegativeIntegers\n",
            "        (4, 4) :     0 :  None :  None : False :  True : NonNegativeIntegers\n",
            "        (4, 5) :     0 :  None :  None : False :  True : NonNegativeIntegers\n",
            "        (4, 6) :     0 :  None :  None : False :  True : NonNegativeIntegers\n",
            "        (4, 7) :     0 :  None :  None : False :  True : NonNegativeIntegers\n",
            "        (5, 0) :     0 :  None :  None : False :  True : NonNegativeIntegers\n",
            "        (5, 1) :     0 :  None :  None : False :  True : NonNegativeIntegers\n",
            "        (5, 2) :     0 :  None :  None : False :  True : NonNegativeIntegers\n",
            "        (5, 3) :     0 :  None :  None : False :  True : NonNegativeIntegers\n",
            "        (5, 4) :     0 :  None :  None : False :  True : NonNegativeIntegers\n",
            "        (5, 5) :     0 :  None :  None : False :  True : NonNegativeIntegers\n",
            "        (5, 6) :     0 :  None :  None : False :  True : NonNegativeIntegers\n",
            "        (5, 7) :     0 :  None :  None : False :  True : NonNegativeIntegers\n",
            "        (6, 0) :     0 :  None :  None : False :  True : NonNegativeIntegers\n",
            "        (6, 1) :     0 :  None :  None : False :  True : NonNegativeIntegers\n",
            "        (6, 2) :     0 :  None :  None : False :  True : NonNegativeIntegers\n",
            "        (6, 3) :     0 :  None :  None : False :  True : NonNegativeIntegers\n",
            "        (6, 4) :     0 :  None :  None : False :  True : NonNegativeIntegers\n",
            "        (6, 5) :     0 :  None :  None : False :  True : NonNegativeIntegers\n",
            "        (6, 6) :     0 :  None :  None : False :  True : NonNegativeIntegers\n",
            "        (6, 7) :     0 :  None :  None : False :  True : NonNegativeIntegers\n",
            "        (7, 0) :     0 :  None :  None : False :  True : NonNegativeIntegers\n",
            "        (7, 1) :     0 :  None :  None : False :  True : NonNegativeIntegers\n",
            "        (7, 2) :     0 :  None :  None : False :  True : NonNegativeIntegers\n",
            "        (7, 3) :     0 :  None :  None : False :  True : NonNegativeIntegers\n",
            "        (7, 4) :     0 :  None :  None : False :  True : NonNegativeIntegers\n",
            "        (7, 5) :     0 :  None :  None : False :  True : NonNegativeIntegers\n",
            "        (7, 6) :     0 :  None :  None : False :  True : NonNegativeIntegers\n",
            "        (7, 7) :     0 :  None :  None : False :  True : NonNegativeIntegers\n",
            "\n",
            "1 Objective Declarations\n",
            "    objective : Size=1, Index=None, Active=True\n",
            "        Key  : Active : Sense    : Expression\n",
            "        None :   True : minimize : 827*x[0,0] + 817*x[0,1] + 1470*x[0,2] + 2272*x[0,3] + 1615*x[0,4] + 3143*x[0,5] + 1264*x[0,6] + 4465*x[0,7] + 559*x[1,0] + 1832*x[1,1] + 751*x[1,2] + 3772*x[1,3] + 637*x[1,4] + 3773*x[1,5] + 1856*x[1,6] + 5459*x[1,7] + 1109*x[2,0] + 2443*x[2,1] + 577*x[2,2] + 3865*x[2,3] + 798*x[2,4] + 3521*x[2,5] + 1984*x[2,6] + 5303*x[2,7] + 2943*x[3,0] + 1471*x[3,1] + 4676*x[3,2] + 1337*x[3,3] + 2702*x[3,4] + 2741*x[3,5] + 2482*x[3,6] + 4148*x[3,7] + 3742*x[4,0] + 3089*x[4,1] + 2931*x[4,2] + 3199*x[4,3] + 2226*x[4,4] + 1739*x[4,5] + 1691*x[4,6] + 2128*x[4,7] + 2353*x[5,0] + 1160*x[5,1] + 3295*x[5,2] + 368*x[5,3] + 2369*x[5,4] + 2365*x[5,5] + 1293*x[5,6] + 3642*x[5,7] + 1356*x[6,0] + 1617*x[6,1] + 2045*x[6,2] + 2941*x[6,3] + 2334*x[6,4] + 4151*x[6,5] + 1937*x[6,6] + 4287*x[6,7] + 195*x[7,0] + 1862*x[7,1] + 1331*x[7,2] + 2921*x[7,3] + 402*x[7,4] + 2825*x[7,5] + 563*x[7,6] + 4441*x[7,7]\n",
            "\n",
            "1 Constraint Declarations\n",
            "    constraints : Size=16, Index=constraints_index, Active=True\n",
            "        Key : Lower : Body                                                                  : Upper : Active\n",
            "          1 :  -Inf : x[0,0] + x[0,1] + x[0,2] + x[0,3] + x[0,4] + x[0,5] + x[0,6] + x[0,7] : 350.0 :   True\n",
            "          2 :  -Inf : x[1,0] + x[1,1] + x[1,2] + x[1,3] + x[1,4] + x[1,5] + x[1,6] + x[1,7] : 185.0 :   True\n",
            "          3 :  -Inf : x[2,0] + x[2,1] + x[2,2] + x[2,3] + x[2,4] + x[2,5] + x[2,6] + x[2,7] : 305.0 :   True\n",
            "          4 :  -Inf : x[3,0] + x[3,1] + x[3,2] + x[3,3] + x[3,4] + x[3,5] + x[3,6] + x[3,7] : 180.0 :   True\n",
            "          5 :  -Inf : x[4,0] + x[4,1] + x[4,2] + x[4,3] + x[4,4] + x[4,5] + x[4,6] + x[4,7] : 205.0 :   True\n",
            "          6 :  -Inf : x[5,0] + x[5,1] + x[5,2] + x[5,3] + x[5,4] + x[5,5] + x[5,6] + x[5,7] : 175.0 :   True\n",
            "          7 :  -Inf : x[6,0] + x[6,1] + x[6,2] + x[6,3] + x[6,4] + x[6,5] + x[6,6] + x[6,7] : 325.0 :   True\n",
            "          8 :  -Inf : x[7,0] + x[7,1] + x[7,2] + x[7,3] + x[7,4] + x[7,5] + x[7,6] + x[7,7] : 370.0 :   True\n",
            "          9 : 205.0 : x[0,0] + x[1,0] + x[2,0] + x[3,0] + x[4,0] + x[5,0] + x[6,0] + x[7,0] : 205.0 :   True\n",
            "         10 : 300.0 : x[0,1] + x[1,1] + x[2,1] + x[3,1] + x[4,1] + x[5,1] + x[6,1] + x[7,1] : 300.0 :   True\n",
            "         11 : 425.0 : x[0,2] + x[1,2] + x[2,2] + x[3,2] + x[4,2] + x[5,2] + x[6,2] + x[7,2] : 425.0 :   True\n",
            "         12 : 270.0 : x[0,3] + x[1,3] + x[2,3] + x[3,3] + x[4,3] + x[5,3] + x[6,3] + x[7,3] : 270.0 :   True\n",
            "         13 : 375.0 : x[0,4] + x[1,4] + x[2,4] + x[3,4] + x[4,4] + x[5,4] + x[6,4] + x[7,4] : 375.0 :   True\n",
            "         14 : 225.0 : x[0,5] + x[1,5] + x[2,5] + x[3,5] + x[4,5] + x[5,5] + x[6,5] + x[7,5] : 225.0 :   True\n",
            "         15 : 185.0 : x[0,6] + x[1,6] + x[2,6] + x[3,6] + x[4,6] + x[5,6] + x[6,6] + x[7,6] : 185.0 :   True\n",
            "         16 : 110.0 : x[0,7] + x[1,7] + x[2,7] + x[3,7] + x[4,7] + x[5,7] + x[6,7] + x[7,7] : 110.0 :   True\n",
            "\n",
            "7 Declarations: x_index_0 x_index_1 x_index x objective constraints_index constraints\n"
          ]
        }
      ]
    },
    {
      "cell_type": "code",
      "metadata": {
        "id": "rhSG6IRMfclR",
        "colab": {
          "base_uri": "https://localhost:8080/"
        },
        "outputId": "1ba39eae-563e-4f73-ca73-55423be6efc9"
      },
      "source": [
        "!apt-get install -y -qq coinor-cbc"
      ],
      "execution_count": 32,
      "outputs": [
        {
          "output_type": "stream",
          "name": "stdout",
          "text": [
            "Selecting previously unselected package coinor-libcoinutils3v5.\n",
            "(Reading database ... 155569 files and directories currently installed.)\n",
            "Preparing to unpack .../0-coinor-libcoinutils3v5_2.10.14+repack1-1_amd64.deb ...\n",
            "Unpacking coinor-libcoinutils3v5 (2.10.14+repack1-1) ...\n",
            "Selecting previously unselected package coinor-libosi1v5.\n",
            "Preparing to unpack .../1-coinor-libosi1v5_0.107.9+repack1-1_amd64.deb ...\n",
            "Unpacking coinor-libosi1v5 (0.107.9+repack1-1) ...\n",
            "Selecting previously unselected package coinor-libclp1.\n",
            "Preparing to unpack .../2-coinor-libclp1_1.16.11+repack1-1_amd64.deb ...\n",
            "Unpacking coinor-libclp1 (1.16.11+repack1-1) ...\n",
            "Selecting previously unselected package coinor-libcgl1.\n",
            "Preparing to unpack .../3-coinor-libcgl1_0.59.10+repack1-1_amd64.deb ...\n",
            "Unpacking coinor-libcgl1 (0.59.10+repack1-1) ...\n",
            "Selecting previously unselected package coinor-libcbc3.\n",
            "Preparing to unpack .../4-coinor-libcbc3_2.9.9+repack1-1_amd64.deb ...\n",
            "Unpacking coinor-libcbc3 (2.9.9+repack1-1) ...\n",
            "Selecting previously unselected package coinor-cbc.\n",
            "Preparing to unpack .../5-coinor-cbc_2.9.9+repack1-1_amd64.deb ...\n",
            "Unpacking coinor-cbc (2.9.9+repack1-1) ...\n",
            "Setting up coinor-libcoinutils3v5 (2.10.14+repack1-1) ...\n",
            "Setting up coinor-libosi1v5 (0.107.9+repack1-1) ...\n",
            "Setting up coinor-libclp1 (1.16.11+repack1-1) ...\n",
            "Setting up coinor-libcgl1 (0.59.10+repack1-1) ...\n",
            "Setting up coinor-libcbc3 (2.9.9+repack1-1) ...\n",
            "Setting up coinor-cbc (2.9.9+repack1-1) ...\n",
            "Processing triggers for man-db (2.8.3-2ubuntu0.1) ...\n",
            "Processing triggers for libc-bin (2.27-3ubuntu1.5) ...\n"
          ]
        }
      ]
    },
    {
      "cell_type": "code",
      "metadata": {
        "id": "Sq3CpPcCeIBC"
      },
      "source": [
        "opt_cbc = SolverFactory('cbc')"
      ],
      "execution_count": 33,
      "outputs": []
    },
    {
      "cell_type": "code",
      "metadata": {
        "id": "ANOu9qtsMgJQ",
        "colab": {
          "base_uri": "https://localhost:8080/"
        },
        "outputId": "d399052e-613b-4410-cb0d-7dd6f66fb80a"
      },
      "source": [
        "result = opt_cbc.solve(model_lab5_ex1)\n",
        "print('Solver status:', result.solver.status)\n",
        "print('Solver termination condition:',result.solver.termination_condition)"
      ],
      "execution_count": 34,
      "outputs": [
        {
          "output_type": "stream",
          "name": "stdout",
          "text": [
            "Solver status: ok\n",
            "Solver termination condition: optimal\n"
          ]
        }
      ]
    },
    {
      "cell_type": "code",
      "metadata": {
        "id": "WQZHDR3afKj5",
        "colab": {
          "base_uri": "https://localhost:8080/"
        },
        "outputId": "c661851f-a698-4d4e-809b-972b3bb04ab9"
      },
      "source": [
        "# display solution\n",
        "print('\\nObjective = ', model_lab5_ex1.objective())\n",
        "\n",
        "print('\\nDecision Variables')\n",
        "for i in row_indices:\n",
        "  for j in col_indices:\n",
        "    print('Num washing machine between ',data_csvfile['Warehouses'][i],' and ', data_csvfile.columns[j+1],':', model_lab5_ex1.x[i,j].value)\n",
        "\n",
        "print('\\nConstraints')\n",
        "model_lab5_ex1.constraints.display()"
      ],
      "execution_count": 35,
      "outputs": [
        {
          "output_type": "stream",
          "name": "stdout",
          "text": [
            "\n",
            "Objective =  2192870.0\n",
            "\n",
            "Decision Variables\n",
            "Num washing machine between  ahmedabad  and  Hassan : 0.0\n",
            "Num washing machine between  ahmedabad  and  Jodhpur : 300.0\n",
            "Num washing machine between  ahmedabad  and  Trichy : 0.0\n",
            "Num washing machine between  ahmedabad  and  Shimla : 0.0\n",
            "Num washing machine between  ahmedabad  and  Vijaywarah : 0.0\n",
            "Num washing machine between  ahmedabad  and  Dibrugarh : 45.0\n",
            "Num washing machine between  ahmedabad  and  Raipur : 5.0\n",
            "Num washing machine between  ahmedabad  and  Agartala : 0.0\n",
            "Num washing machine between  Bengaluru  and  Hassan : 0.0\n",
            "Num washing machine between  Bengaluru  and  Jodhpur : 0.0\n",
            "Num washing machine between  Bengaluru  and  Trichy : 120.0\n",
            "Num washing machine between  Bengaluru  and  Shimla : 0.0\n",
            "Num washing machine between  Bengaluru  and  Vijaywarah : 65.0\n",
            "Num washing machine between  Bengaluru  and  Dibrugarh : 0.0\n",
            "Num washing machine between  Bengaluru  and  Raipur : 0.0\n",
            "Num washing machine between  Bengaluru  and  Agartala : 0.0\n",
            "Num washing machine between  Chennai  and  Hassan : 0.0\n",
            "Num washing machine between  Chennai  and  Jodhpur : 0.0\n",
            "Num washing machine between  Chennai  and  Trichy : 305.0\n",
            "Num washing machine between  Chennai  and  Shimla : 0.0\n",
            "Num washing machine between  Chennai  and  Vijaywarah : 0.0\n",
            "Num washing machine between  Chennai  and  Dibrugarh : 0.0\n",
            "Num washing machine between  Chennai  and  Raipur : 0.0\n",
            "Num washing machine between  Chennai  and  Agartala : 0.0\n",
            "Num washing machine between  Delhi  and  Hassan : 0.0\n",
            "Num washing machine between  Delhi  and  Jodhpur : 0.0\n",
            "Num washing machine between  Delhi  and  Trichy : 0.0\n",
            "Num washing machine between  Delhi  and  Shimla : 95.0\n",
            "Num washing machine between  Delhi  and  Vijaywarah : 0.0\n",
            "Num washing machine between  Delhi  and  Dibrugarh : 85.0\n",
            "Num washing machine between  Delhi  and  Raipur : 0.0\n",
            "Num washing machine between  Delhi  and  Agartala : 0.0\n",
            "Num washing machine between  Kolkata  and  Hassan : 0.0\n",
            "Num washing machine between  Kolkata  and  Jodhpur : 0.0\n",
            "Num washing machine between  Kolkata  and  Trichy : 0.0\n",
            "Num washing machine between  Kolkata  and  Shimla : 0.0\n",
            "Num washing machine between  Kolkata  and  Vijaywarah : 0.0\n",
            "Num washing machine between  Kolkata  and  Dibrugarh : 95.0\n",
            "Num washing machine between  Kolkata  and  Raipur : 0.0\n",
            "Num washing machine between  Kolkata  and  Agartala : 110.0\n",
            "Num washing machine between  Lucknow  and  Hassan : 0.0\n",
            "Num washing machine between  Lucknow  and  Jodhpur : 0.0\n",
            "Num washing machine between  Lucknow  and  Trichy : 0.0\n",
            "Num washing machine between  Lucknow  and  Shimla : 175.0\n",
            "Num washing machine between  Lucknow  and  Vijaywarah : 0.0\n",
            "Num washing machine between  Lucknow  and  Dibrugarh : 0.0\n",
            "Num washing machine between  Lucknow  and  Raipur : 0.0\n",
            "Num washing machine between  Lucknow  and  Agartala : 0.0\n",
            "Num washing machine between  Mumbai  and  Hassan : 205.0\n",
            "Num washing machine between  Mumbai  and  Jodhpur : 0.0\n",
            "Num washing machine between  Mumbai  and  Trichy : 0.0\n",
            "Num washing machine between  Mumbai  and  Shimla : 0.0\n",
            "Num washing machine between  Mumbai  and  Vijaywarah : 0.0\n",
            "Num washing machine between  Mumbai  and  Dibrugarh : 0.0\n",
            "Num washing machine between  Mumbai  and  Raipur : 120.0\n",
            "Num washing machine between  Mumbai  and  Agartala : 0.0\n",
            "Num washing machine between  Hydrabad  and  Hassan : 0.0\n",
            "Num washing machine between  Hydrabad  and  Jodhpur : 0.0\n",
            "Num washing machine between  Hydrabad  and  Trichy : 0.0\n",
            "Num washing machine between  Hydrabad  and  Shimla : 0.0\n",
            "Num washing machine between  Hydrabad  and  Vijaywarah : 310.0\n",
            "Num washing machine between  Hydrabad  and  Dibrugarh : 0.0\n",
            "Num washing machine between  Hydrabad  and  Raipur : 60.0\n",
            "Num washing machine between  Hydrabad  and  Agartala : 0.0\n",
            "\n",
            "Constraints\n",
            "constraints : Size=16\n",
            "    Key : Lower : Body  : Upper\n",
            "      1 :  None : 350.0 : 350.0\n",
            "      2 :  None : 185.0 : 185.0\n",
            "      3 :  None : 305.0 : 305.0\n",
            "      4 :  None : 180.0 : 180.0\n",
            "      5 :  None : 205.0 : 205.0\n",
            "      6 :  None : 175.0 : 175.0\n",
            "      7 :  None : 325.0 : 325.0\n",
            "      8 :  None : 370.0 : 370.0\n",
            "      9 : 205.0 : 205.0 : 205.0\n",
            "     10 : 300.0 : 300.0 : 300.0\n",
            "     11 : 425.0 : 425.0 : 425.0\n",
            "     12 : 270.0 : 270.0 : 270.0\n",
            "     13 : 375.0 : 375.0 : 375.0\n",
            "     14 : 225.0 : 225.0 : 225.0\n",
            "     15 : 185.0 : 185.0 : 185.0\n",
            "     16 : 110.0 : 110.0 : 110.0\n"
          ]
        }
      ]
    },
    {
      "cell_type": "markdown",
      "source": [],
      "metadata": {
        "id": "rxqXG3nqxOgO"
      }
    },
    {
      "cell_type": "markdown",
      "source": [
        "#Part 8 to 9#"
      ],
      "metadata": {
        "id": "FEM5il2LxODP"
      }
    },
    {
      "cell_type": "markdown",
      "source": [
        "#8)#\n",
        "\n",
        "Lucknow-Shimla link is disrupted means there is no link between them so we do not doing transportation between them. As per requirement we have increase the cost of this link so that transportation has not been done here as it is a minimization problem"
      ],
      "metadata": {
        "id": "8vb7dGk2JZPP"
      }
    },
    {
      "cell_type": "markdown",
      "source": [
        "#9)#\n",
        "#New Total Cost =  2380570.0#\n",
        "\n",
        "#Non-zero flows on the network are given below ::#\n",
        "between  ahmedabad  and  Jodhpur : 300.0\n",
        "\n",
        "between  ahmedabad  and  Raipur : 50.0\n",
        "\n",
        "between  Bengaluru  and  Trichy : 120.0\n",
        "\n",
        "between  Bengaluru  and  Vijaywarah : 65.0\n",
        "\n",
        "between  Chennai  and  Trichy : 305.0\n",
        "\n",
        "between  Delhi  and  Shimla : 180.0\n",
        "\n",
        "between  Kolkata  and  Dibrugarh : 95.0\n",
        "\n",
        "between  Kolkata  and  Agartala : 110.0\n",
        "\n",
        "between  Lucknow  and  Dibrugarh : 130.0\n",
        "\n",
        "between  Lucknow  and  Raipur : 45.0\n",
        "\n",
        "between  Mumbai  and  Hassan : 205.0\n",
        "\n",
        "between  Mumbai  and  Shimla : 90.0\n",
        "\n",
        "between  Mumbai  and  Raipur : 30.0\n",
        "\n",
        "between  Hydrabad  and  Vijaywarah : 310.0\n",
        "\n",
        "between  Hydrabad  and  Raipur : 60.0\n",
        "\n"
      ],
      "metadata": {
        "id": "MD3gVkZfmDUI"
      }
    },
    {
      "cell_type": "code",
      "metadata": {
        "id": "MeSMEQsMyhFt"
      },
      "source": [
        "data_csvfile.iloc[5, 4] = 10000000000"
      ],
      "execution_count": 36,
      "outputs": []
    },
    {
      "cell_type": "code",
      "source": [
        "model_lab5_ex1.objective = Objective(expr=sum(data_csvfile.iloc[i,j+1]*model_lab5_ex1.x[i,j] for i in row_indices for j in col_indices),sense=minimize)"
      ],
      "metadata": {
        "colab": {
          "base_uri": "https://localhost:8080/"
        },
        "id": "1aE-dOpxuesq",
        "outputId": "b3e8cb85-85a2-4115-ff9b-ca91bf3e55e1"
      },
      "execution_count": 37,
      "outputs": [
        {
          "output_type": "stream",
          "name": "stderr",
          "text": [
            "WARNING:pyomo.core:Implicitly replacing the Component attribute objective (type=<class 'pyomo.core.base.objective.ScalarObjective'>) on block unknown with a new Component (type=<class 'pyomo.core.base.objective.ScalarObjective'>).\n",
            "This is usually indicative of a modelling error.\n",
            "To avoid this warning, use block.del_component() and block.add_component().\n"
          ]
        }
      ]
    },
    {
      "cell_type": "code",
      "source": [
        "!apt-get install -y -qq coinor-cbc"
      ],
      "metadata": {
        "id": "tmVfeYg1tvmR"
      },
      "execution_count": 38,
      "outputs": []
    },
    {
      "cell_type": "code",
      "source": [
        "opt_cbc = SolverFactory('cbc')"
      ],
      "metadata": {
        "id": "3bUZoYB8t_I0"
      },
      "execution_count": 39,
      "outputs": []
    },
    {
      "cell_type": "code",
      "source": [
        "result = opt_cbc.solve(model_lab5_ex1)\n",
        "print('Solver status:', result.solver.status)\n",
        "print('Solver termination condition:',result.solver.termination_condition)"
      ],
      "metadata": {
        "colab": {
          "base_uri": "https://localhost:8080/"
        },
        "id": "_pYhp4uouD5l",
        "outputId": "af24d077-8aeb-495c-f625-c7ff81f2da9f"
      },
      "execution_count": 40,
      "outputs": [
        {
          "output_type": "stream",
          "name": "stdout",
          "text": [
            "Solver status: ok\n",
            "Solver termination condition: optimal\n"
          ]
        }
      ]
    },
    {
      "cell_type": "code",
      "source": [
        "# display solution\n",
        "print('\\nObjective = ', model_lab5_ex1.objective())\n",
        "\n",
        "print('\\nDecision Variables')\n",
        "for i in row_indices:\n",
        "  for j in col_indices:\n",
        "    print('Num washing machine between ',data_csvfile['Warehouses'][i],' and ', data_csvfile.columns[j+1],':', model_lab5_ex1.x[i,j].value)\n",
        "\n",
        "print('\\nConstraints')\n",
        "model_lab5_ex1.constraints.display()"
      ],
      "metadata": {
        "colab": {
          "base_uri": "https://localhost:8080/"
        },
        "id": "qkRGB9NEuFn0",
        "outputId": "08bcd5f9-29ee-4d3d-fda8-f3e011c14ff0"
      },
      "execution_count": 41,
      "outputs": [
        {
          "output_type": "stream",
          "name": "stdout",
          "text": [
            "\n",
            "Objective =  2380570.0\n",
            "\n",
            "Decision Variables\n",
            "Num washing machine between  ahmedabad  and  Hassan : 0.0\n",
            "Num washing machine between  ahmedabad  and  Jodhpur : 300.0\n",
            "Num washing machine between  ahmedabad  and  Trichy : 0.0\n",
            "Num washing machine between  ahmedabad  and  Shimla : 0.0\n",
            "Num washing machine between  ahmedabad  and  Vijaywarah : 0.0\n",
            "Num washing machine between  ahmedabad  and  Dibrugarh : 0.0\n",
            "Num washing machine between  ahmedabad  and  Raipur : 50.0\n",
            "Num washing machine between  ahmedabad  and  Agartala : 0.0\n",
            "Num washing machine between  Bengaluru  and  Hassan : 0.0\n",
            "Num washing machine between  Bengaluru  and  Jodhpur : 0.0\n",
            "Num washing machine between  Bengaluru  and  Trichy : 120.0\n",
            "Num washing machine between  Bengaluru  and  Shimla : 0.0\n",
            "Num washing machine between  Bengaluru  and  Vijaywarah : 65.0\n",
            "Num washing machine between  Bengaluru  and  Dibrugarh : 0.0\n",
            "Num washing machine between  Bengaluru  and  Raipur : 0.0\n",
            "Num washing machine between  Bengaluru  and  Agartala : 0.0\n",
            "Num washing machine between  Chennai  and  Hassan : 0.0\n",
            "Num washing machine between  Chennai  and  Jodhpur : 0.0\n",
            "Num washing machine between  Chennai  and  Trichy : 305.0\n",
            "Num washing machine between  Chennai  and  Shimla : 0.0\n",
            "Num washing machine between  Chennai  and  Vijaywarah : 0.0\n",
            "Num washing machine between  Chennai  and  Dibrugarh : 0.0\n",
            "Num washing machine between  Chennai  and  Raipur : 0.0\n",
            "Num washing machine between  Chennai  and  Agartala : 0.0\n",
            "Num washing machine between  Delhi  and  Hassan : 0.0\n",
            "Num washing machine between  Delhi  and  Jodhpur : 0.0\n",
            "Num washing machine between  Delhi  and  Trichy : 0.0\n",
            "Num washing machine between  Delhi  and  Shimla : 180.0\n",
            "Num washing machine between  Delhi  and  Vijaywarah : 0.0\n",
            "Num washing machine between  Delhi  and  Dibrugarh : 0.0\n",
            "Num washing machine between  Delhi  and  Raipur : 0.0\n",
            "Num washing machine between  Delhi  and  Agartala : 0.0\n",
            "Num washing machine between  Kolkata  and  Hassan : 0.0\n",
            "Num washing machine between  Kolkata  and  Jodhpur : 0.0\n",
            "Num washing machine between  Kolkata  and  Trichy : 0.0\n",
            "Num washing machine between  Kolkata  and  Shimla : 0.0\n",
            "Num washing machine between  Kolkata  and  Vijaywarah : 0.0\n",
            "Num washing machine between  Kolkata  and  Dibrugarh : 95.0\n",
            "Num washing machine between  Kolkata  and  Raipur : 0.0\n",
            "Num washing machine between  Kolkata  and  Agartala : 110.0\n",
            "Num washing machine between  Lucknow  and  Hassan : 0.0\n",
            "Num washing machine between  Lucknow  and  Jodhpur : 0.0\n",
            "Num washing machine between  Lucknow  and  Trichy : 0.0\n",
            "Num washing machine between  Lucknow  and  Shimla : 0.0\n",
            "Num washing machine between  Lucknow  and  Vijaywarah : 0.0\n",
            "Num washing machine between  Lucknow  and  Dibrugarh : 130.0\n",
            "Num washing machine between  Lucknow  and  Raipur : 45.0\n",
            "Num washing machine between  Lucknow  and  Agartala : 0.0\n",
            "Num washing machine between  Mumbai  and  Hassan : 205.0\n",
            "Num washing machine between  Mumbai  and  Jodhpur : 0.0\n",
            "Num washing machine between  Mumbai  and  Trichy : 0.0\n",
            "Num washing machine between  Mumbai  and  Shimla : 90.0\n",
            "Num washing machine between  Mumbai  and  Vijaywarah : 0.0\n",
            "Num washing machine between  Mumbai  and  Dibrugarh : 0.0\n",
            "Num washing machine between  Mumbai  and  Raipur : 30.0\n",
            "Num washing machine between  Mumbai  and  Agartala : 0.0\n",
            "Num washing machine between  Hydrabad  and  Hassan : 0.0\n",
            "Num washing machine between  Hydrabad  and  Jodhpur : 0.0\n",
            "Num washing machine between  Hydrabad  and  Trichy : 0.0\n",
            "Num washing machine between  Hydrabad  and  Shimla : 0.0\n",
            "Num washing machine between  Hydrabad  and  Vijaywarah : 310.0\n",
            "Num washing machine between  Hydrabad  and  Dibrugarh : 0.0\n",
            "Num washing machine between  Hydrabad  and  Raipur : 60.0\n",
            "Num washing machine between  Hydrabad  and  Agartala : 0.0\n",
            "\n",
            "Constraints\n",
            "constraints : Size=16\n",
            "    Key : Lower : Body  : Upper\n",
            "      1 :  None : 350.0 : 350.0\n",
            "      2 :  None : 185.0 : 185.0\n",
            "      3 :  None : 305.0 : 305.0\n",
            "      4 :  None : 180.0 : 180.0\n",
            "      5 :  None : 205.0 : 205.0\n",
            "      6 :  None : 175.0 : 175.0\n",
            "      7 :  None : 325.0 : 325.0\n",
            "      8 :  None : 370.0 : 370.0\n",
            "      9 : 205.0 : 205.0 : 205.0\n",
            "     10 : 300.0 : 300.0 : 300.0\n",
            "     11 : 425.0 : 425.0 : 425.0\n",
            "     12 : 270.0 : 270.0 : 270.0\n",
            "     13 : 375.0 : 375.0 : 375.0\n",
            "     14 : 225.0 : 225.0 : 225.0\n",
            "     15 : 185.0 : 185.0 : 185.0\n",
            "     16 : 110.0 : 110.0 : 110.0\n"
          ]
        }
      ]
    },
    {
      "cell_type": "markdown",
      "source": [],
      "metadata": {
        "id": "1DqiSAMqxu5X"
      }
    },
    {
      "cell_type": "markdown",
      "source": [
        "#Part 10#"
      ],
      "metadata": {
        "id": "q6exYcxqxue-"
      }
    },
    {
      "cell_type": "code",
      "source": [
        "data_csvfile.iloc[4, 6] = 10000000000\n",
        "data_csvfile.iloc[3, 7] = 10000000000"
      ],
      "metadata": {
        "id": "k_OXffi6u-np"
      },
      "execution_count": 42,
      "outputs": []
    },
    {
      "cell_type": "code",
      "source": [
        "model_lab5_ex1.objective = Objective(expr=sum(data_csvfile.iloc[i,j+1]*model_lab5_ex1.x[i,j] for i in row_indices for j in col_indices),sense=minimize)"
      ],
      "metadata": {
        "colab": {
          "base_uri": "https://localhost:8080/"
        },
        "id": "siGPWxk_yQtO",
        "outputId": "b25201fe-6374-4f7d-db41-1b1882be595c"
      },
      "execution_count": 43,
      "outputs": [
        {
          "output_type": "stream",
          "name": "stderr",
          "text": [
            "WARNING:pyomo.core:Implicitly replacing the Component attribute objective (type=<class 'pyomo.core.base.objective.ScalarObjective'>) on block unknown with a new Component (type=<class 'pyomo.core.base.objective.ScalarObjective'>).\n",
            "This is usually indicative of a modelling error.\n",
            "To avoid this warning, use block.del_component() and block.add_component().\n"
          ]
        }
      ]
    },
    {
      "cell_type": "code",
      "source": [
        "result = opt_cbc.solve(model_lab5_ex1)\n",
        "print('Solver status:', result.solver.status)\n",
        "print('Solver termination condition:',result.solver.termination_condition)"
      ],
      "metadata": {
        "colab": {
          "base_uri": "https://localhost:8080/"
        },
        "id": "pRfLVNO9yVS3",
        "outputId": "3c325d3d-f99e-42f7-d67b-014e9ea1e34d"
      },
      "execution_count": 44,
      "outputs": [
        {
          "output_type": "stream",
          "name": "stdout",
          "text": [
            "Solver status: ok\n",
            "Solver termination condition: optimal\n"
          ]
        }
      ]
    },
    {
      "cell_type": "code",
      "source": [
        "# display solution\n",
        "print('\\nObjective = ', model_lab5_ex1.objective())\n",
        "\n",
        "print('\\nDecision Variables')\n",
        "for i in row_indices:\n",
        "  for j in col_indices:\n",
        "    print('Num washing machine between ',data_csvfile['Warehouses'][i],' and ', data_csvfile.columns[j+1],':', model_lab5_ex1.x[i,j].value)\n",
        "\n",
        "print('\\nConstraints')\n",
        "model_lab5_ex1.constraints.display()"
      ],
      "metadata": {
        "colab": {
          "base_uri": "https://localhost:8080/"
        },
        "id": "RVzX0ksqyY1O",
        "outputId": "d38af795-bbfb-4c30-cdb6-8177b64cab06"
      },
      "execution_count": 45,
      "outputs": [
        {
          "output_type": "stream",
          "name": "stdout",
          "text": [
            "\n",
            "Objective =  2518200.0\n",
            "\n",
            "Decision Variables\n",
            "Num washing machine between  ahmedabad  and  Hassan : 0.0\n",
            "Num washing machine between  ahmedabad  and  Jodhpur : 300.0\n",
            "Num washing machine between  ahmedabad  and  Trichy : 0.0\n",
            "Num washing machine between  ahmedabad  and  Shimla : 0.0\n",
            "Num washing machine between  ahmedabad  and  Vijaywarah : 0.0\n",
            "Num washing machine between  ahmedabad  and  Dibrugarh : 50.0\n",
            "Num washing machine between  ahmedabad  and  Raipur : 0.0\n",
            "Num washing machine between  ahmedabad  and  Agartala : 0.0\n",
            "Num washing machine between  Bengaluru  and  Hassan : 0.0\n",
            "Num washing machine between  Bengaluru  and  Jodhpur : 0.0\n",
            "Num washing machine between  Bengaluru  and  Trichy : 120.0\n",
            "Num washing machine between  Bengaluru  and  Shimla : 0.0\n",
            "Num washing machine between  Bengaluru  and  Vijaywarah : 65.0\n",
            "Num washing machine between  Bengaluru  and  Dibrugarh : 0.0\n",
            "Num washing machine between  Bengaluru  and  Raipur : 0.0\n",
            "Num washing machine between  Bengaluru  and  Agartala : 0.0\n",
            "Num washing machine between  Chennai  and  Hassan : 0.0\n",
            "Num washing machine between  Chennai  and  Jodhpur : 0.0\n",
            "Num washing machine between  Chennai  and  Trichy : 305.0\n",
            "Num washing machine between  Chennai  and  Shimla : 0.0\n",
            "Num washing machine between  Chennai  and  Vijaywarah : 0.0\n",
            "Num washing machine between  Chennai  and  Dibrugarh : 0.0\n",
            "Num washing machine between  Chennai  and  Raipur : 0.0\n",
            "Num washing machine between  Chennai  and  Agartala : 0.0\n",
            "Num washing machine between  Delhi  and  Hassan : 0.0\n",
            "Num washing machine between  Delhi  and  Jodhpur : 0.0\n",
            "Num washing machine between  Delhi  and  Trichy : 0.0\n",
            "Num washing machine between  Delhi  and  Shimla : 180.0\n",
            "Num washing machine between  Delhi  and  Vijaywarah : 0.0\n",
            "Num washing machine between  Delhi  and  Dibrugarh : 0.0\n",
            "Num washing machine between  Delhi  and  Raipur : 0.0\n",
            "Num washing machine between  Delhi  and  Agartala : 0.0\n",
            "Num washing machine between  Kolkata  and  Hassan : 0.0\n",
            "Num washing machine between  Kolkata  and  Jodhpur : 0.0\n",
            "Num washing machine between  Kolkata  and  Trichy : 0.0\n",
            "Num washing machine between  Kolkata  and  Shimla : 0.0\n",
            "Num washing machine between  Kolkata  and  Vijaywarah : 0.0\n",
            "Num washing machine between  Kolkata  and  Dibrugarh : 0.0\n",
            "Num washing machine between  Kolkata  and  Raipur : 95.0\n",
            "Num washing machine between  Kolkata  and  Agartala : 110.0\n",
            "Num washing machine between  Lucknow  and  Hassan : 0.0\n",
            "Num washing machine between  Lucknow  and  Jodhpur : 0.0\n",
            "Num washing machine between  Lucknow  and  Trichy : 0.0\n",
            "Num washing machine between  Lucknow  and  Shimla : 0.0\n",
            "Num washing machine between  Lucknow  and  Vijaywarah : 0.0\n",
            "Num washing machine between  Lucknow  and  Dibrugarh : 175.0\n",
            "Num washing machine between  Lucknow  and  Raipur : 0.0\n",
            "Num washing machine between  Lucknow  and  Agartala : 0.0\n",
            "Num washing machine between  Mumbai  and  Hassan : 205.0\n",
            "Num washing machine between  Mumbai  and  Jodhpur : 0.0\n",
            "Num washing machine between  Mumbai  and  Trichy : 0.0\n",
            "Num washing machine between  Mumbai  and  Shimla : 90.0\n",
            "Num washing machine between  Mumbai  and  Vijaywarah : 0.0\n",
            "Num washing machine between  Mumbai  and  Dibrugarh : 0.0\n",
            "Num washing machine between  Mumbai  and  Raipur : 30.0\n",
            "Num washing machine between  Mumbai  and  Agartala : 0.0\n",
            "Num washing machine between  Hydrabad  and  Hassan : 0.0\n",
            "Num washing machine between  Hydrabad  and  Jodhpur : 0.0\n",
            "Num washing machine between  Hydrabad  and  Trichy : 0.0\n",
            "Num washing machine between  Hydrabad  and  Shimla : 0.0\n",
            "Num washing machine between  Hydrabad  and  Vijaywarah : 310.0\n",
            "Num washing machine between  Hydrabad  and  Dibrugarh : 0.0\n",
            "Num washing machine between  Hydrabad  and  Raipur : 60.0\n",
            "Num washing machine between  Hydrabad  and  Agartala : 0.0\n",
            "\n",
            "Constraints\n",
            "constraints : Size=16\n",
            "    Key : Lower : Body  : Upper\n",
            "      1 :  None : 350.0 : 350.0\n",
            "      2 :  None : 185.0 : 185.0\n",
            "      3 :  None : 305.0 : 305.0\n",
            "      4 :  None : 180.0 : 180.0\n",
            "      5 :  None : 205.0 : 205.0\n",
            "      6 :  None : 175.0 : 175.0\n",
            "      7 :  None : 325.0 : 325.0\n",
            "      8 :  None : 370.0 : 370.0\n",
            "      9 : 205.0 : 205.0 : 205.0\n",
            "     10 : 300.0 : 300.0 : 300.0\n",
            "     11 : 425.0 : 425.0 : 425.0\n",
            "     12 : 270.0 : 270.0 : 270.0\n",
            "     13 : 375.0 : 375.0 : 375.0\n",
            "     14 : 225.0 : 225.0 : 225.0\n",
            "     15 : 185.0 : 185.0 : 185.0\n",
            "     16 : 110.0 : 110.0 : 110.0\n"
          ]
        }
      ]
    },
    {
      "cell_type": "code",
      "source": [],
      "metadata": {
        "id": "m8mx7jLcydFI"
      },
      "execution_count": 45,
      "outputs": []
    },
    {
      "cell_type": "markdown",
      "source": [
        "#11)#\n",
        "\n",
        "Total cost =  2518200.0\n",
        "\n",
        "the number of truck-loads of EVs that are transported from warehouses to markets are given below \n",
        "\n",
        "between  ahmedabad  and  Jodhpur : 300.0\n",
        "\n",
        "between  ahmedabad  and  Dibrugarh : 50.0\n",
        "\n",
        "between  Bengaluru  and  Trichy : 120.0\n",
        "\n",
        "between  Bengaluru  and  Vijaywarah : 65.0\n",
        "\n",
        "between  Chennai  and  Trichy : 305.0\n",
        "\n",
        "between  Delhi  and  Shimla : 180.0\n",
        "\n",
        "between  Kolkata  and  Raipur : 95.0\n",
        "\n",
        "between  Kolkata  and  Agartala : 110.0\n",
        "\n",
        "between  Lucknow  and  Dibrugarh : 175.0\n",
        "\n",
        "between  Mumbai  and  Hassan : 205.0\n",
        "\n",
        "between  Mumbai  and  Shimla : 90.0\n",
        "\n",
        "between  Mumbai  and  Raipur : 30.0\n",
        "\n",
        "between  Hydrabad  and  Vijaywarah : 310.0\n",
        "\n",
        "between  Hydrabad  and  Raipur : 60.0\n",
        "\n"
      ],
      "metadata": {
        "id": "gnfVReWdLE3_"
      }
    },
    {
      "cell_type": "markdown",
      "source": [
        "#Observation of all changes as follows#\n",
        "\n",
        "1. At first Lucknow  and  Shimla : 175.0 and cost = 2192870.0\n",
        "\n",
        "2. After disruption the link between these two the number of truckloads distributed as\n",
        "\n",
        "Lucknow and Dibrugarh : 130.0\n",
        "\n",
        "Lucknow and Raipur : 45.0\n",
        "\n",
        "also the cost has been increased. New cost = 2380570.0\n",
        "\n",
        "3. before disruption of kolkata-dibrugarh, number of truckloads between Kolkata and Dibrugarh : 95.0, which has now transferred to Raipur i.e Kolkata and Raipur : 95.0 after disruption.\n",
        "\n",
        "4. Before, Lucknow and Dibrugarh : 130.0, Lucknow and Raipur : 45.0\n",
        "\n",
        "But after disruption between delhi-raipur, now Lucknow and Dibrugarh : 175.0\n",
        "\n",
        "5. The total cost has also increased to 2518200.0"
      ],
      "metadata": {
        "id": "VpAjkfHfQwgO"
      }
    }
  ]
}